{
 "cells": [
  {
   "cell_type": "code",
   "execution_count": null,
   "metadata": {},
   "outputs": [],
   "source": [
    "# 1. Define the Portfolio class\n",
    "class Portfolio:\n",
    "    def __init__(self):\n",
    "        # Stores assets and their info\n",
    "        self.assets = {}\n",
    "\n",
    "    # 2. Add or update an asset\n",
    "    def add_asset(self, asset_name, quantity, unit_value):\n",
    "        if asset_name in self.assets:\n",
    "            self.assets[asset_name]['quantity'] += quantity\n",
    "            self.assets[asset_name]['unit_value'] = unit_value\n",
    "        else:\n",
    "            self.assets[asset_name] = {\n",
    "                'quantity': quantity,\n",
    "                'unit_value': unit_value\n",
    "            }\n",
    "\n",
    "    # 3. Remove an asset\n",
    "    def remove_asset(self, asset_name):\n",
    "        if asset_name in self.assets:\n",
    "            del self.assets[asset_name]\n",
    "        else:\n",
    "            print(f\"'{asset_name}' not in portfolio.\")\n",
    "\n",
    "    # 4. Update asset details\n",
    "    def update_asset(self, asset_name, new_quantity, new_unit_value):\n",
    "        if asset_name in self.assets:\n",
    "            self.assets[asset_name]['quantity'] = new_quantity\n",
    "            self.assets[asset_name]['unit_value'] = new_unit_value\n",
    "        else:\n",
    "            print(f\"'{asset_name}' not found.\")\n",
    "\n",
    "    # 5. Get total portfolio value\n",
    "    def get_total_value(self):\n",
    "        total = 0\n",
    "        for asset, info in self.assets.items():\n",
    "            total += info['quantity'] * info['unit_value']\n",
    "        return total\n"
   ]
  },
  {
   "cell_type": "code",
   "execution_count": null,
   "metadata": {
    "id": "FQpoFECiJiLG"
   },
   "outputs": [],
   "source": [
    "# Example usage\n",
    "\n",
    "# Create an empty portfolio\n",
    "my_portfolio = Portfolio()\n",
    "\n",
    "# Add some assets\n",
    "my_portfolio.add_asset(\"AAPL\", 10, 150)\n",
    "my_portfolio.add_asset(\"GOOG\", 5, 1000)\n",
    "my_portfolio.add_asset(\"TSLA\", 8, 800)\n",
    "\n",
    "# Update an asset\n",
    "my_portfolio.update_asset(\"AAPL\", 12, 160)\n",
    "\n",
    "# Remove an asset\n",
    "my_portfolio.remove_asset(\"GOOG\")\n",
    "\n",
    "# Get total portfolio value\n",
    "total_value = my_portfolio.get_total_value()\n",
    "print(f\"The total portfolio value is {total_value} €.\")"
   ]
  }
 ],
 "metadata": {
  "colab": {
   "collapsed_sections": [],
   "provenance": []
  },
  "kernelspec": {
   "display_name": "Python 3 (ipykernel)",
   "language": "python",
   "name": "python3"
  },
  "language_info": {
   "codemirror_mode": {
    "name": "ipython",
    "version": 3
   },
   "file_extension": ".py",
   "mimetype": "text/x-python",
   "name": "python",
   "nbconvert_exporter": "python",
   "pygments_lexer": "ipython3",
   "version": "3.10.12"
  }
 },
 "nbformat": 4,
 "nbformat_minor": 1
}
